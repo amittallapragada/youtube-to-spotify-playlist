{
 "cells": [
  {
   "cell_type": "code",
   "execution_count": 64,
   "metadata": {},
   "outputs": [
    {
     "name": "stdout",
     "output_type": "stream",
     "text": [
      "\n",
      "\n",
      "            User authentication requires interaction with your\n",
      "            web browser. Once you enter your credentials and\n",
      "            give authorization, you will be redirected to\n",
      "            a url.  Paste that url you were directed to to\n",
      "            complete the authorization.\n",
      "\n",
      "        \n",
      "Opened https://accounts.spotify.com/authorize?client_id=06fc8266fc51402281de005991aa5759&response_type=code&redirect_uri=http%3A%2F%2Flocalhost%2F&scope=playlist-modify-private+playlist-modify-public+user-library-read in your browser\n",
      "\n",
      "\n",
      "Enter the URL you were redirected to: http://localhost/?code=AQAwOgz_nQ1grcDLY1C2SX-Ry_xYgZNy6unUFu7JcciCiruWd0yk5P2GGUOi-ieMSEKg6THGkcGvTFX2IsWVfuuAlpH3jifWnGKpbjt7A5GwFjYWcEo9LV_wnURSDmhEpcnuJOiACoE6oGIgUghNtoh97v_4qMr4kjlGkptB-rTm8bMk8nQnbkViamiExqhyTz2IWTSy-DzI5cOHtKdlEeBC2XPrqlIQlsvLBXlqt0J7D5q9fhUidb4HFwQjN14sRbC1GoiU6E785e5uDA\n",
      "\n",
      "\n"
     ]
    }
   ],
   "source": [
    "import spotipy\n",
    "import sys \n",
    "import spotipy.util as util \n",
    "from main import get_songs\n",
    "from constants import credentials \n",
    "\n",
    "CLIENT_ID = credentials['CLIENT_ID']\n",
    "CLIENT_ID_SECRET = credentials['CLIENT_ID_SECRET']\n",
    "SPOTIFY_URL = \"https://accounts.spotify.com/authorize\"\n",
    "RESP = 'code'\n",
    "REDIRECT_URI = 'https://www.spotify.com/us/'\n",
    "SCOPE = 'playlist-modify-private playlist-modify-public user-library-read'\n",
    "\n",
    "if len(sys.argv) > 1:\n",
    "    username = sys.argv[1]\n",
    "else:\n",
    "    print(\"Usage : %s username\" % (sys.argv[0],))\n",
    "    sys.exit()\n",
    "\n",
    "token = util.prompt_for_user_token(username,SCOPE,client_id=CLIENT_ID, \n",
    "client_secret=CLIENT_ID_SECRET, redirect_uri='http://localhost/')\n",
    "\n",
    "sp = spotipy.Spotify(auth=token)\n"
   ]
  },
  {
   "cell_type": "markdown",
   "metadata": {},
   "source": [
    "### Get song links from youtube playlist"
   ]
  },
  {
   "cell_type": "code",
   "execution_count": 45,
   "metadata": {},
   "outputs": [
    {
     "name": "stdout",
     "output_type": "stream",
     "text": [
      "['Yeah Yeah Yeahs', 'Peter Bjorn and John', 'Snow Patrol', 'Neutral Milk Hotel', 'Youth Lagoon'] ['Maps', 'Young Folks', 'Open Your Eyes', 'In The Aeroplane Over The Sea', '\"Highway Patrol Stun Gun\"']\n"
     ]
    }
   ],
   "source": [
    "artists, songs = get_songs('https://m.youtube.com/playlist?list=PLm2SjZLv_q0hxh2FWyL-kVU1gsyXLAsk9')\n",
    "print(artists, songs)"
   ]
  },
  {
   "cell_type": "markdown",
   "metadata": {},
   "source": [
    "### Convert youtube links to spotify links"
   ]
  },
  {
   "cell_type": "code",
   "execution_count": 51,
   "metadata": {},
   "outputs": [
    {
     "data": {
      "text/plain": [
       "['https://open.spotify.com/track/0hDQV9X1Da5JrwhK8gu86p',\n",
       " 'https://open.spotify.com/track/6M6UoxIPn4NOWW0x7JPRfv',\n",
       " 'https://open.spotify.com/track/55fg1bDXyNUsY2KaSMNFpA',\n",
       " 'https://open.spotify.com/track/4OciRObYGzPzlU40U7YRc8',\n",
       " 'https://open.spotify.com/track/3Ty5AF8PMWtLxBjNSpZ0pt']"
      ]
     },
     "execution_count": 51,
     "metadata": {},
     "output_type": "execute_result"
    }
   ],
   "source": [
    "song_urls = []\n",
    "for i in range(len(songs)):\n",
    "    try:\n",
    "        results = sp.search(q='track:' + songs[i]+ \",\", type='track,artist')\n",
    "        song = None\n",
    "        for item in results['tracks']['items']:\n",
    "            if item['artists'][0]['name'] == artists[i]:\n",
    "                song = item\n",
    "                break\n",
    "        song_urls.append(song['external_urls']['spotify'])\n",
    "    except Exception as e:\n",
    "        print(e)\n",
    "        print(songs[i])\n",
    "    \n",
    "\n",
    "song_urls"
   ]
  },
  {
   "cell_type": "markdown",
   "metadata": {},
   "source": [
    "### Create spotify playlist"
   ]
  },
  {
   "cell_type": "code",
   "execution_count": 60,
   "metadata": {},
   "outputs": [],
   "source": [
    "playlist_name = 'Rylee Playlist Test'\n",
    "user = 'amittallapragada1'\n",
    "resp = sp.user_playlist_create(name=playlist_name, user=user, public=False)\n",
    "#done get playlist id\n",
    "playlist_id = resp['id']"
   ]
  },
  {
   "cell_type": "markdown",
   "metadata": {},
   "source": [
    "### Add songs to playlist"
   ]
  },
  {
   "cell_type": "code",
   "execution_count": 65,
   "metadata": {},
   "outputs": [
    {
     "data": {
      "text/plain": [
       "{'snapshot_id': 'Miw3OTBmZGIzMGVkZTVjOWRhMTMxMmQzNTg4MWQxMTFhZGQyNDRlNmE1'}"
      ]
     },
     "execution_count": 65,
     "metadata": {},
     "output_type": "execute_result"
    }
   ],
   "source": [
    "sp.user_playlist_add_tracks(user, playlist_id, song_urls, position=None)"
   ]
  },
  {
   "cell_type": "code",
   "execution_count": null,
   "metadata": {},
   "outputs": [],
   "source": []
  }
 ],
 "metadata": {
  "kernelspec": {
   "display_name": "Python 3",
   "language": "python",
   "name": "python3"
  },
  "language_info": {
   "codemirror_mode": {
    "name": "ipython",
    "version": 3
   },
   "file_extension": ".py",
   "mimetype": "text/x-python",
   "name": "python",
   "nbconvert_exporter": "python",
   "pygments_lexer": "ipython3",
   "version": "3.6.7"
  }
 },
 "nbformat": 4,
 "nbformat_minor": 2
}
